{
 "cells": [
  {
   "cell_type": "code",
   "execution_count": null,
   "metadata": {},
   "outputs": [],
   "source": [
    "inputfile = open('./datasets/LCSTS/PART_I.txt', 'r+')\n",
    "\n",
    "output1 = open('./datasets/LCSTS/summaries.txt', 'a+')\n",
    "output2 = open('./datasets/LCSTS/fulltext.txt', 'a+')"
   ]
  },
  {
   "cell_type": "code",
   "execution_count": null,
   "metadata": {},
   "outputs": [],
   "source": [
    "linecount = 0\n",
    "count = 0\n",
    "\n",
    "for line in inputfile:\n",
    "    line = line.strip()\n",
    "    count += 1\n",
    "    if count == 3:\n",
    "        output1.write(line)\n",
    "        output1.write('\\n')\n",
    "    if count == 6:\n",
    "        output2.write(line)\n",
    "        output2.write('\\n')\n",
    "    if count >= 8:\n",
    "        count = 0\n",
    "    linecount += 1\n",
    "    print(linecount)"
   ]
  },
  {
   "cell_type": "code",
   "execution_count": null,
   "metadata": {},
   "outputs": [],
   "source": [
    "output1.close()\n",
    "output2.close()"
   ]
  },
  {
   "cell_type": "code",
   "execution_count": null,
   "metadata": {},
   "outputs": [],
   "source": []
  },
  {
   "cell_type": "code",
   "execution_count": null,
   "metadata": {},
   "outputs": [],
   "source": []
  }
 ],
 "metadata": {
  "kernelspec": {
   "display_name": "Python 3",
   "language": "python",
   "name": "python3"
  },
  "language_info": {
   "codemirror_mode": {
    "name": "ipython",
    "version": 3
   },
   "file_extension": ".py",
   "mimetype": "text/x-python",
   "name": "python",
   "nbconvert_exporter": "python",
   "pygments_lexer": "ipython3",
   "version": "3.7.2"
  }
 },
 "nbformat": 4,
 "nbformat_minor": 2
}
